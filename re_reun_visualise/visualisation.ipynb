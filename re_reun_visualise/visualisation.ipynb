{
 "cells": [
  {
   "cell_type": "markdown",
   "metadata": {},
   "source": [
    "### Add timestamp to the validation json file\n"
   ]
  },
  {
   "cell_type": "code",
   "execution_count": 1,
   "metadata": {},
   "outputs": [],
   "source": [
    "import json\n",
    "import copy\n",
    "\n",
    "semantickitti_validation_path = \"/globalwork/fradlin/mask4d-interactive/processed/semantic_kitti/full_validation_list.json\"\n",
    "# Load the JSON file\n",
    "with open(semantickitti_validation_path, \"r\") as f:\n",
    "    data = json.load(f)\n",
    "\n",
    "# Read the times.txt file into a list\n",
    "with open(\"/globalwork/data/SemanticKITTI/dataset/sequences/08/times.txt\", \"r\") as f:\n",
    "    timestamps = f.readlines()\n",
    "\n",
    "# Clean the timestamps (remove any trailing newline characters)\n",
    "timestamps = [float(time.strip()) for time in timestamps]\n",
    "\n",
    "json_with_timestamps = {}\n",
    "# Iterate through each entry in the JSON data\n",
    "for key, value in data.items():\n",
    "    # Extract the frame index from the filepath (e.g., \"000000\" from the filepath)\n",
    "    frame_filename = value[\"filepath\"].split(\"/\")[-1]  # Get \"000000.bin\"\n",
    "    frame_index = int(frame_filename.split(\".\")[0])  # Extract \"000000\" and convert to integer\n",
    "\n",
    "    # Get the corresponding timestamp\n",
    "    if frame_index < len(timestamps):\n",
    "        timestamp = timestamps[frame_index]\n",
    "    else:\n",
    "        raise ValueError(f\"Frame index {frame_index} is out of bounds\")\n",
    "    updated_value = copy.deepcopy(value)\n",
    "    updated_value[\"timestamp\"] = timestamp\n",
    "    json_with_timestamps[key] = updated_value\n",
    "\n",
    "with open(\"semantickitti_08_scene.json\", \"w\") as f:\n",
    "    json.dump(json_with_timestamps, f, indent=4)"
   ]
  },
  {
   "cell_type": "code",
   "execution_count": null,
   "metadata": {},
   "outputs": [],
   "source": [
    "import os\n",
    "from pathlib import Path\n",
    "import json\n",
    "import copy\n",
    "\n",
    "semantickitti_validation_path = \"/globalwork/fradlin/mask4d-interactive/processed/semantic_kitti/full_validation_list.json\"\n",
    "\n",
    "with open(semantickitti_validation_path, \"r\") as f:\n",
    "    validation_list = json.load(f)\n",
    "\n",
    "visualisation_json = {}\n",
    "for key, value in validation_list.items():\n",
    "    updated_key = key.replace(\"scene_08_\", \"\")\n",
    "    update_value = copy.deepcopy(value)\n",
    "    update_value[\"timestamp\"] = \n",
    "    visualisation_json[updated_key] = value"
   ]
  }
 ],
 "metadata": {
  "kernelspec": {
   "display_name": "mask4d",
   "language": "python",
   "name": "python3"
  },
  "language_info": {
   "codemirror_mode": {
    "name": "ipython",
    "version": 3
   },
   "file_extension": ".py",
   "mimetype": "text/x-python",
   "name": "python",
   "nbconvert_exporter": "python",
   "pygments_lexer": "ipython3",
   "version": "3.8.18"
  }
 },
 "nbformat": 4,
 "nbformat_minor": 2
}
