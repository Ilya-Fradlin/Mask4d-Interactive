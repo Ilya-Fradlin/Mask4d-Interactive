{
 "cells": [
  {
   "cell_type": "code",
   "execution_count": 1,
   "metadata": {},
   "outputs": [],
   "source": [
    "import numpy as np\n",
    "import json\n",
    "import colorsys\n",
    "import matplotlib.pyplot as plt"
   ]
  },
  {
   "cell_type": "markdown",
   "metadata": {},
   "source": [
    "### This Notebook is used for small utility tasks that need to be executed only once\n"
   ]
  },
  {
   "cell_type": "code",
   "execution_count": 7,
   "metadata": {},
   "outputs": [
    {
     "name": "stdout",
     "output_type": "stream",
     "text": [
      "stats for training set\n",
      "The average number of unique_panoptic_labels is: 19.813904861474125\n",
      "The key with the largest unique_panoptic_labels is: scene_00_001472\n",
      "The largest number of unique_panoptic_labels is: 66\n",
      "The key with the smallest unique_panoptic_labels is: scene_02_001856\n",
      "The smallest number of unique_panoptic_labels is: 4\n"
     ]
    }
   ],
   "source": [
    "# Load the training JSON file\n",
    "with open(\"/globalwork/fradlin/mask4d-interactive/processed/semantic_kitti/full_train_list.json\", \"r\") as f:\n",
    "    data = json.load(f)\n",
    "\n",
    "# Initialize a variable to track the maximum length\n",
    "max_length = 0\n",
    "min_length = 1000000\n",
    "max_key = None\n",
    "min_key = None\n",
    "running_average = 0\n",
    "counter = 0\n",
    "\n",
    "# Iterate over all the keys in the JSON data\n",
    "for key, value in data.items():\n",
    "    if \"unique_panoptic_labels\" in value:\n",
    "        # Calculate the length of the unique_panoptic_labels list\n",
    "        length = len(value[\"unique_panoptic_labels\"])\n",
    "        # Update max_length if the current length is greater\n",
    "        if length > max_length:\n",
    "            max_length = length\n",
    "            max_key = key\n",
    "        if length < min_length:\n",
    "            min_length = length\n",
    "            min_key = key\n",
    "        running_average += length\n",
    "        counter += 1\n",
    "\n",
    "average = running_average / counter\n",
    "\n",
    "print(\"stats for training set\")\n",
    "print(f\"The average number of unique_panoptic_labels is: {average}\")\n",
    "print(f\"The key with the largest unique_panoptic_labels is: {max_key}\")\n",
    "print(f\"The largest number of unique_panoptic_labels is: {max_length}\")\n",
    "print(f\"The key with the smallest unique_panoptic_labels is: {min_key}\")\n",
    "print(f\"The smallest number of unique_panoptic_labels is: {min_length}\")"
   ]
  },
  {
   "cell_type": "code",
   "execution_count": 8,
   "metadata": {},
   "outputs": [
    {
     "name": "stdout",
     "output_type": "stream",
     "text": [
      "stats for validation set\n",
      "The average number of unique_panoptic_labels is: 24.574551707197248\n",
      "The key with the largest unique_panoptic_labels is: scene_08_004000\n",
      "The largest number of unique_panoptic_labels is: 54\n",
      "The key with the smallest unique_panoptic_labels is: scene_08_000236\n",
      "The smallest number of unique_panoptic_labels is: 11\n"
     ]
    }
   ],
   "source": [
    "# Load the validation JSON file\n",
    "with open(\"/globalwork/fradlin/mask4d-interactive/processed/semantic_kitti/full_validation_list.json\", \"r\") as f:\n",
    "    data = json.load(f)\n",
    "\n",
    "# Initialize a variable to track the maximum length\n",
    "max_length = 0\n",
    "min_length = 1000000\n",
    "max_key = None\n",
    "min_key = None\n",
    "running_average = 0\n",
    "counter = 0\n",
    "\n",
    "# Iterate over all the keys in the JSON data\n",
    "for key, value in data.items():\n",
    "    if \"unique_panoptic_labels\" in value:\n",
    "        # Calculate the length of the unique_panoptic_labels list\n",
    "        length = len(value[\"unique_panoptic_labels\"])\n",
    "        # Update max_length if the current length is greater\n",
    "        if length > max_length:\n",
    "            max_length = length\n",
    "            max_key = key\n",
    "        if length < min_length:\n",
    "            min_length = length\n",
    "            min_key = key\n",
    "        running_average += length\n",
    "        counter += 1\n",
    "\n",
    "average = running_average / counter\n",
    "\n",
    "print(\"stats for validation set\")\n",
    "print(f\"The average number of unique_panoptic_labels is: {average}\")\n",
    "print(f\"The key with the largest unique_panoptic_labels is: {max_key}\")\n",
    "print(f\"The largest number of unique_panoptic_labels is: {max_length}\")\n",
    "print(f\"The key with the smallest unique_panoptic_labels is: {min_key}\")\n",
    "print(f\"The smallest number of unique_panoptic_labels is: {min_length}\")"
   ]
  },
  {
   "cell_type": "markdown",
   "metadata": {},
   "source": [
    "### Generate n visually seperable RGB colors\n"
   ]
  },
  {
   "cell_type": "code",
   "execution_count": 17,
   "metadata": {},
   "outputs": [
    {
     "name": "stdout",
     "output_type": "stream",
     "text": [
      "Color 0: (242, 12, 12)\n",
      "Color 1: (242, 32, 12)\n",
      "Color 2: (242, 52, 12)\n",
      "Color 3: (242, 71, 12)\n",
      "Color 4: (242, 91, 12)\n",
      "Color 5: (242, 111, 12)\n",
      "Color 6: (242, 130, 12)\n",
      "Color 7: (242, 150, 12)\n",
      "Color 8: (242, 170, 12)\n",
      "Color 9: (242, 189, 12)\n",
      "Color 10: (242, 209, 12)\n",
      "Color 11: (242, 229, 12)\n",
      "Color 12: (235, 242, 12)\n",
      "Color 13: (216, 242, 12)\n",
      "Color 14: (196, 242, 12)\n",
      "Color 15: (176, 242, 12)\n",
      "Color 16: (157, 242, 12)\n",
      "Color 17: (137, 242, 12)\n",
      "Color 18: (117, 242, 12)\n",
      "Color 19: (97, 242, 12)\n",
      "Color 20: (78, 242, 12)\n",
      "Color 21: (58, 242, 12)\n",
      "Color 22: (38, 242, 12)\n",
      "Color 23: (19, 242, 12)\n",
      "Color 24: (12, 242, 25)\n",
      "Color 25: (12, 242, 45)\n",
      "Color 26: (12, 242, 65)\n",
      "Color 27: (12, 242, 84)\n",
      "Color 28: (12, 242, 104)\n",
      "Color 29: (12, 242, 124)\n",
      "Color 30: (12, 242, 143)\n",
      "Color 31: (12, 242, 163)\n",
      "Color 32: (12, 242, 183)\n",
      "Color 33: (12, 242, 202)\n",
      "Color 34: (12, 242, 222)\n",
      "Color 35: (12, 242, 242)\n",
      "Color 36: (12, 222, 242)\n",
      "Color 37: (12, 202, 242)\n",
      "Color 38: (12, 183, 242)\n",
      "Color 39: (12, 163, 242)\n",
      "Color 40: (12, 143, 242)\n",
      "Color 41: (12, 124, 242)\n",
      "Color 42: (12, 104, 242)\n",
      "Color 43: (12, 84, 242)\n",
      "Color 44: (12, 65, 242)\n",
      "Color 45: (12, 45, 242)\n",
      "Color 46: (12, 25, 242)\n",
      "Color 47: (19, 12, 242)\n",
      "Color 48: (38, 12, 242)\n",
      "Color 49: (58, 12, 242)\n",
      "Color 50: (78, 12, 242)\n",
      "Color 51: (97, 12, 242)\n",
      "Color 52: (117, 12, 242)\n",
      "Color 53: (137, 12, 242)\n",
      "Color 54: (157, 12, 242)\n",
      "Color 55: (176, 12, 242)\n",
      "Color 56: (196, 12, 242)\n",
      "Color 57: (216, 12, 242)\n",
      "Color 58: (235, 12, 242)\n",
      "Color 59: (242, 12, 229)\n",
      "Color 60: (242, 12, 209)\n",
      "Color 61: (242, 12, 189)\n",
      "Color 62: (242, 12, 170)\n",
      "Color 63: (242, 12, 150)\n",
      "Color 64: (242, 12, 130)\n",
      "Color 65: (242, 12, 111)\n",
      "Color 66: (242, 12, 91)\n",
      "Color 67: (242, 12, 71)\n",
      "Color 68: (242, 12, 52)\n",
      "Color 69: (242, 12, 32)\n"
     ]
    }
   ],
   "source": [
    "def generate_distinct_colors(n):\n",
    "    # Generate colors in HSL color space and convert to RGB\n",
    "    colors = []\n",
    "    for i in range(n):\n",
    "        hue = i / n\n",
    "        lightness = 0.5\n",
    "        saturation = 0.9\n",
    "        rgb = colorsys.hls_to_rgb(hue, lightness, saturation)\n",
    "        rgb = tuple(int(255 * x) for x in rgb)\n",
    "        colors.append(rgb)\n",
    "    return colors\n",
    "\n",
    "\n",
    "# Example usage\n",
    "n = 70\n",
    "distinct_colors = generate_distinct_colors(n)\n",
    "for i, color in enumerate(distinct_colors):\n",
    "    print(f\"Color {i}: {color}\")"
   ]
  },
  {
   "cell_type": "code",
   "execution_count": 18,
   "metadata": {},
   "outputs": [
    {
     "data": {
      "image/png": "[encoded data removed]",
      "text/plain": [
       "<Figure size 800x200 with 1 Axes>"
      ]
     },
     "metadata": {},
     "output_type": "display_data"
    }
   ],
   "source": [
    "def plot_colors(colors):\n",
    "    fig, ax = plt.subplots(figsize=(8, 2))\n",
    "    for i, color in enumerate(colors):\n",
    "        ax.add_patch(plt.Rectangle((i, 0), 1, 1, color=[c / 255.0 for c in color]))\n",
    "    ax.set_xlim(0, len(colors))\n",
    "    ax.set_ylim(0, 1)\n",
    "    ax.axis(\"off\")\n",
    "    plt.show()\n",
    "\n",
    "\n",
    "plot_colors(distinct_colors)"
   ]
  },
  {
   "cell_type": "code",
   "execution_count": 11,
   "metadata": {},
   "outputs": [],
   "source": [
    "import matplotlib.pyplot as plt\n",
    "\n",
    "\n",
    "class IntensityValue:\n",
    "    def __init__(self, parent, value, level):\n",
    "        if level > 7:\n",
    "            raise Exception(\"There are no more colours left\")\n",
    "        self.value = value\n",
    "        self.parent = parent\n",
    "        self.level = level\n",
    "        self._child_a = None\n",
    "        self._child_b = None\n",
    "\n",
    "    @property\n",
    "    def child_a(self):\n",
    "        if self._child_a is None:\n",
    "            self._child_a = IntensityValue(self, self.value - (1 << (7 - self.level)), self.level + 1)\n",
    "        return self._child_a\n",
    "\n",
    "    @property\n",
    "    def child_b(self):\n",
    "        if self._child_b is None:\n",
    "            self._child_b = IntensityValue(self, self.value + (1 << (7 - self.level)), self.level + 1)\n",
    "        return self._child_b\n",
    "\n",
    "\n",
    "class IntensityValueWalker:\n",
    "    def __init__(self):\n",
    "        self.current = IntensityValue(None, 1 << 7, 1)\n",
    "\n",
    "    def move_next(self):\n",
    "        if self.current.parent is None:\n",
    "            self.current = self.current.child_a\n",
    "        elif self.current.parent.child_a == self.current:\n",
    "            self.current = self.current.parent.child_b\n",
    "        else:\n",
    "            levels_up = 1\n",
    "            self.current = self.current.parent\n",
    "            while self.current.parent is not None and self.current == self.current.parent.child_b:\n",
    "                self.current = self.current.parent\n",
    "                levels_up += 1\n",
    "            if self.current.parent is not None:\n",
    "                self.current = self.current.parent.child_b\n",
    "            else:\n",
    "                levels_up += 1\n",
    "            for _ in range(levels_up):\n",
    "                self.current = self.current.child_a\n",
    "\n",
    "\n",
    "class ColourGenerator:\n",
    "    def __init__(self):\n",
    "        self.index = 0\n",
    "        self.intensity_generator = IntensityValueWalker()\n",
    "        self.patterns = [\"{0}0000\", \"00{0}00\", \"0000{0}\", \"{0}{0}00\", \"{0}00{0}\", \"00{0}{0}\", \"{0}{0}{0}\"]\n",
    "\n",
    "    def next_colour(self):\n",
    "        intensity = self.next_intensity(self.index)\n",
    "        pattern = self.patterns[self.index % 7]\n",
    "        colour = pattern.format(intensity)\n",
    "        self.index += 1\n",
    "        return colour\n",
    "\n",
    "    def next_intensity(self, index):\n",
    "        if index == 0:\n",
    "            self.current_intensity = 255\n",
    "        elif index % 7 == 0:\n",
    "            self.intensity_generator.move_next()\n",
    "            self.current_intensity = self.intensity_generator.current.value\n",
    "        current_text = hex(self.current_intensity)[2:].upper()\n",
    "        if len(current_text) == 1:\n",
    "            current_text = \"0\" + current_text\n",
    "        return current_text\n",
    "\n",
    "\n",
    "def hex_to_rgb(hex_color):\n",
    "    return tuple(int(hex_color[i : i + 2], 16) for i in (0, 2, 4))\n",
    "\n",
    "\n",
    "def plot_colors(colors):\n",
    "    fig, ax = plt.subplots(figsize=(15, 5))\n",
    "    for i, color in enumerate(colors):\n",
    "        rgb = hex_to_rgb(color)\n",
    "        ax.add_patch(plt.Rectangle((i, 0), 1, 1, color=[c / 255.0 for c in rgb]))\n",
    "    ax.set_xlim(0, len(colors))\n",
    "    ax.set_ylim(0, 1)\n",
    "    ax.axis(\"off\")\n",
    "    plt.show()"
   ]
  },
  {
   "cell_type": "code",
   "execution_count": 12,
   "metadata": {},
   "outputs": [
    {
     "name": "stdout",
     "output_type": "stream",
     "text": [
      "Color 0: (255, 0, 0)\n",
      "Color 1: (0, 255, 0)\n",
      "Color 2: (0, 0, 255)\n",
      "Color 3: (255, 255, 0)\n",
      "Color 4: (255, 0, 255)\n",
      "Color 5: (0, 255, 255)\n",
      "Color 6: (255, 255, 255)\n",
      "Color 7: (64, 0, 0)\n",
      "Color 8: (0, 64, 0)\n",
      "Color 9: (0, 0, 64)\n",
      "Color 10: (64, 64, 0)\n",
      "Color 11: (64, 0, 64)\n",
      "Color 12: (0, 64, 64)\n",
      "Color 13: (64, 64, 64)\n",
      "Color 14: (192, 0, 0)\n",
      "Color 15: (0, 192, 0)\n",
      "Color 16: (0, 0, 192)\n",
      "Color 17: (192, 192, 0)\n",
      "Color 18: (192, 0, 192)\n",
      "Color 19: (0, 192, 192)\n",
      "Color 20: (192, 192, 192)\n",
      "Color 21: (32, 0, 0)\n",
      "Color 22: (0, 32, 0)\n",
      "Color 23: (0, 0, 32)\n",
      "Color 24: (32, 32, 0)\n",
      "Color 25: (32, 0, 32)\n",
      "Color 26: (0, 32, 32)\n",
      "Color 27: (32, 32, 32)\n",
      "Color 28: (96, 0, 0)\n",
      "Color 29: (0, 96, 0)\n",
      "Color 30: (0, 0, 96)\n",
      "Color 31: (96, 96, 0)\n",
      "Color 32: (96, 0, 96)\n",
      "Color 33: (0, 96, 96)\n",
      "Color 34: (96, 96, 96)\n",
      "Color 35: (160, 0, 0)\n",
      "Color 36: (0, 160, 0)\n",
      "Color 37: (0, 0, 160)\n",
      "Color 38: (160, 160, 0)\n",
      "Color 39: (160, 0, 160)\n",
      "Color 40: (0, 160, 160)\n",
      "Color 41: (160, 160, 160)\n",
      "Color 42: (224, 0, 0)\n",
      "Color 43: (0, 224, 0)\n",
      "Color 44: (0, 0, 224)\n",
      "Color 45: (224, 224, 0)\n",
      "Color 46: (224, 0, 224)\n",
      "Color 47: (0, 224, 224)\n",
      "Color 48: (224, 224, 224)\n",
      "Color 49: (16, 0, 0)\n",
      "Color 50: (0, 16, 0)\n",
      "Color 51: (0, 0, 16)\n",
      "Color 52: (16, 16, 0)\n",
      "Color 53: (16, 0, 16)\n",
      "Color 54: (0, 16, 16)\n",
      "Color 55: (16, 16, 16)\n",
      "Color 56: (48, 0, 0)\n",
      "Color 57: (0, 48, 0)\n",
      "Color 58: (0, 0, 48)\n",
      "Color 59: (48, 48, 0)\n",
      "Color 60: (48, 0, 48)\n",
      "Color 61: (0, 48, 48)\n",
      "Color 62: (48, 48, 48)\n",
      "Color 63: (80, 0, 0)\n",
      "Color 64: (0, 80, 0)\n",
      "Color 65: (0, 0, 80)\n",
      "Color 66: (80, 80, 0)\n",
      "Color 67: (80, 0, 80)\n",
      "Color 68: (0, 80, 80)\n",
      "Color 69: (80, 80, 80)\n"
     ]
    },
    {
     "data": {
      "image/png": "[encoded data removed]",
      "text/plain": [
       "<Figure size 1500x500 with 1 Axes>"
      ]
     },
     "metadata": {},
     "output_type": "display_data"
    }
   ],
   "source": [
    "# Example usage\n",
    "generator = ColourGenerator()\n",
    "n = 70  # Number of colors to generate\n",
    "distinct_colors = [generator.next_colour() for _ in range(n)]\n",
    "\n",
    "for i, color in enumerate(distinct_colors):\n",
    "    rgb_color = hex_to_rgb(color)\n",
    "    print(f\"Color {i}: {rgb_color}\")\n",
    "\n",
    "# Visualize the colors\n",
    "plot_colors(distinct_colors)"
   ]
  },
  {
   "cell_type": "code",
   "execution_count": 24,
   "metadata": {},
   "outputs": [
    {
     "name": "stderr",
     "output_type": "stream",
     "text": [
      "/home/fradlin/miniconda3/envs/mask4d/lib/python3.8/site-packages/sklearn/cluster/_kmeans.py:1416: FutureWarning: The default value of `n_init` will change from 10 to 'auto' in 1.4. Set the value of `n_init` explicitly to suppress the warning\n",
      "  super()._check_params_vs_input(X, default_n_init=10)\n"
     ]
    },
    {
     "data": {
      "image/png": "[encoded data removed]",
      "text/plain": [
       "<Figure size 800x200 with 1 Axes>"
      ]
     },
     "metadata": {},
     "output_type": "display_data"
    }
   ],
   "source": [
    "import numpy as np\n",
    "from sklearn.cluster import KMeans\n",
    "\n",
    "\n",
    "def generate_distinct_colors_kmeans(n):\n",
    "    # Sample a large number of colors in RGB space\n",
    "    np.random.seed(0)\n",
    "    large_sample = np.random.randint(0, 256, (10000, 3))\n",
    "\n",
    "    # Apply k-means clustering to find n clusters\n",
    "    kmeans = KMeans(n_clusters=n).fit(large_sample)\n",
    "    colors = kmeans.cluster_centers_.astype(int)\n",
    "\n",
    "    return [tuple(color) for color in colors]\n",
    "\n",
    "\n",
    "# Example usage\n",
    "n = 25\n",
    "distinct_colors_kmeans = generate_distinct_colors_kmeans(n)\n",
    "# for i, color in enumerate(distinct_colors_kmeans):\n",
    "#     print(f\"Color {i}: {color}\")\n",
    "\n",
    "# Visualize the k-means colors\n",
    "plot_colors(distinct_colors_kmeans)"
   ]
  },
  {
   "cell_type": "code",
   "execution_count": 22,
   "metadata": {},
   "outputs": [
    {
     "data": {
      "text/plain": [
       "70"
      ]
     },
     "execution_count": 22,
     "metadata": {},
     "output_type": "execute_result"
    }
   ],
   "source": []
  },
  {
   "cell_type": "code",
   "execution_count": null,
   "metadata": {},
   "outputs": [],
   "source": []
  }
 ],
 "metadata": {
  "kernelspec": {
   "display_name": "mask4d",
   "language": "python",
   "name": "python3"
  },
  "language_info": {
   "codemirror_mode": {
    "name": "ipython",
    "version": 3
   },
   "file_extension": ".py",
   "mimetype": "text/x-python",
   "name": "python",
   "nbconvert_exporter": "python",
   "pygments_lexer": "ipython3",
   "version": "3.8.18"
  }
 },
 "nbformat": 4,
 "nbformat_minor": 2
}
